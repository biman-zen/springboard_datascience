{
 "cells": [
  {
   "cell_type": "markdown",
   "id": "634cef5c",
   "metadata": {},
   "source": [
    "US Cities Dataset\n",
    "\n",
    "Biman Mondal\n",
    "\n",
    "June 2, 2025"
   ]
  },
  {
   "cell_type": "code",
   "execution_count": 4,
   "id": "64769b12",
   "metadata": {},
   "outputs": [],
   "source": [
    "# Import numpy package\n",
    "import numpy as np\n",
    "# Import pandas package\n",
    "import pandas as pd\n",
    "# Import matplotlib package\n",
    "import matplotlib.pyplot as plt\n",
    "# Import the seaborn package\n",
    "import seaborn as sns"
   ]
  },
  {
   "cell_type": "markdown",
   "id": "07ce6925",
   "metadata": {},
   "source": [
    "#### Import the dataset"
   ]
  },
  {
   "cell_type": "code",
   "execution_count": 20,
   "id": "b279a443",
   "metadata": {},
   "outputs": [],
   "source": [
    "# The dataset was found on Kaggle but its orgin is : https://simplemaps.com/data/us-cities\n",
    "# Import US Cities Dataset\n",
    "cities = pd.read_csv('./uscities.csv',header='infer',index_col='id')"
   ]
  },
  {
   "cell_type": "code",
   "execution_count": 5,
   "id": "7a582af5",
   "metadata": {},
   "outputs": [
    {
     "data": {
      "text/html": [
       "<div>\n",
       "<style scoped>\n",
       "    .dataframe tbody tr th:only-of-type {\n",
       "        vertical-align: middle;\n",
       "    }\n",
       "\n",
       "    .dataframe tbody tr th {\n",
       "        vertical-align: top;\n",
       "    }\n",
       "\n",
       "    .dataframe thead th {\n",
       "        text-align: right;\n",
       "    }\n",
       "</style>\n",
       "<table border=\"1\" class=\"dataframe\">\n",
       "  <thead>\n",
       "    <tr style=\"text-align: right;\">\n",
       "      <th>id</th>\n",
       "      <th>1840034016</th>\n",
       "      <th>1840020491</th>\n",
       "      <th>1840000494</th>\n",
       "      <th>1840015149</th>\n",
       "      <th>1840019440</th>\n",
       "    </tr>\n",
       "  </thead>\n",
       "  <tbody>\n",
       "    <tr>\n",
       "      <th>city</th>\n",
       "      <td>New York</td>\n",
       "      <td>Los Angeles</td>\n",
       "      <td>Chicago</td>\n",
       "      <td>Miami</td>\n",
       "      <td>Dallas</td>\n",
       "    </tr>\n",
       "    <tr>\n",
       "      <th>city_ascii</th>\n",
       "      <td>New York</td>\n",
       "      <td>Los Angeles</td>\n",
       "      <td>Chicago</td>\n",
       "      <td>Miami</td>\n",
       "      <td>Dallas</td>\n",
       "    </tr>\n",
       "    <tr>\n",
       "      <th>state_id</th>\n",
       "      <td>NY</td>\n",
       "      <td>CA</td>\n",
       "      <td>IL</td>\n",
       "      <td>FL</td>\n",
       "      <td>TX</td>\n",
       "    </tr>\n",
       "    <tr>\n",
       "      <th>state_name</th>\n",
       "      <td>New York</td>\n",
       "      <td>California</td>\n",
       "      <td>Illinois</td>\n",
       "      <td>Florida</td>\n",
       "      <td>Texas</td>\n",
       "    </tr>\n",
       "    <tr>\n",
       "      <th>county_fips</th>\n",
       "      <td>36061</td>\n",
       "      <td>6037</td>\n",
       "      <td>17031</td>\n",
       "      <td>12086</td>\n",
       "      <td>48113</td>\n",
       "    </tr>\n",
       "    <tr>\n",
       "      <th>county_name</th>\n",
       "      <td>New York</td>\n",
       "      <td>Los Angeles</td>\n",
       "      <td>Cook</td>\n",
       "      <td>Miami-Dade</td>\n",
       "      <td>Dallas</td>\n",
       "    </tr>\n",
       "    <tr>\n",
       "      <th>lat</th>\n",
       "      <td>40.6943</td>\n",
       "      <td>34.1139</td>\n",
       "      <td>41.8373</td>\n",
       "      <td>25.7839</td>\n",
       "      <td>32.7936</td>\n",
       "    </tr>\n",
       "    <tr>\n",
       "      <th>lng</th>\n",
       "      <td>-73.9249</td>\n",
       "      <td>-118.4068</td>\n",
       "      <td>-87.6862</td>\n",
       "      <td>-80.2102</td>\n",
       "      <td>-96.7662</td>\n",
       "    </tr>\n",
       "    <tr>\n",
       "      <th>population</th>\n",
       "      <td>18713220</td>\n",
       "      <td>12750807</td>\n",
       "      <td>8604203</td>\n",
       "      <td>6445545</td>\n",
       "      <td>5743938</td>\n",
       "    </tr>\n",
       "    <tr>\n",
       "      <th>density</th>\n",
       "      <td>10715</td>\n",
       "      <td>3276</td>\n",
       "      <td>4574</td>\n",
       "      <td>5019</td>\n",
       "      <td>1526</td>\n",
       "    </tr>\n",
       "    <tr>\n",
       "      <th>source</th>\n",
       "      <td>polygon</td>\n",
       "      <td>polygon</td>\n",
       "      <td>polygon</td>\n",
       "      <td>polygon</td>\n",
       "      <td>polygon</td>\n",
       "    </tr>\n",
       "    <tr>\n",
       "      <th>military</th>\n",
       "      <td>False</td>\n",
       "      <td>False</td>\n",
       "      <td>False</td>\n",
       "      <td>False</td>\n",
       "      <td>False</td>\n",
       "    </tr>\n",
       "    <tr>\n",
       "      <th>incorporated</th>\n",
       "      <td>True</td>\n",
       "      <td>True</td>\n",
       "      <td>True</td>\n",
       "      <td>True</td>\n",
       "      <td>True</td>\n",
       "    </tr>\n",
       "    <tr>\n",
       "      <th>timezone</th>\n",
       "      <td>America/New_York</td>\n",
       "      <td>America/Los_Angeles</td>\n",
       "      <td>America/Chicago</td>\n",
       "      <td>America/New_York</td>\n",
       "      <td>America/Chicago</td>\n",
       "    </tr>\n",
       "    <tr>\n",
       "      <th>ranking</th>\n",
       "      <td>1</td>\n",
       "      <td>1</td>\n",
       "      <td>1</td>\n",
       "      <td>1</td>\n",
       "      <td>1</td>\n",
       "    </tr>\n",
       "    <tr>\n",
       "      <th>zips</th>\n",
       "      <td>11229 11226 11225 11224 11222 11221 11220 1138...</td>\n",
       "      <td>90291 90293 90292 91316 91311 90037 90031 9000...</td>\n",
       "      <td>60018 60649 60641 60640 60643 60642 60645 6064...</td>\n",
       "      <td>33129 33125 33126 33127 33128 33149 33144 3314...</td>\n",
       "      <td>75287 75098 75233 75254 75251 75252 75253 7503...</td>\n",
       "    </tr>\n",
       "  </tbody>\n",
       "</table>\n",
       "</div>"
      ],
      "text/plain": [
       "id                                                   1840034016  \\\n",
       "city                                                   New York   \n",
       "city_ascii                                             New York   \n",
       "state_id                                                     NY   \n",
       "state_name                                             New York   \n",
       "county_fips                                               36061   \n",
       "county_name                                            New York   \n",
       "lat                                                     40.6943   \n",
       "lng                                                    -73.9249   \n",
       "population                                             18713220   \n",
       "density                                                   10715   \n",
       "source                                                  polygon   \n",
       "military                                                  False   \n",
       "incorporated                                               True   \n",
       "timezone                                       America/New_York   \n",
       "ranking                                                       1   \n",
       "zips          11229 11226 11225 11224 11222 11221 11220 1138...   \n",
       "\n",
       "id                                                   1840020491  \\\n",
       "city                                                Los Angeles   \n",
       "city_ascii                                          Los Angeles   \n",
       "state_id                                                     CA   \n",
       "state_name                                           California   \n",
       "county_fips                                                6037   \n",
       "county_name                                         Los Angeles   \n",
       "lat                                                     34.1139   \n",
       "lng                                                   -118.4068   \n",
       "population                                             12750807   \n",
       "density                                                    3276   \n",
       "source                                                  polygon   \n",
       "military                                                  False   \n",
       "incorporated                                               True   \n",
       "timezone                                    America/Los_Angeles   \n",
       "ranking                                                       1   \n",
       "zips          90291 90293 90292 91316 91311 90037 90031 9000...   \n",
       "\n",
       "id                                                   1840000494  \\\n",
       "city                                                    Chicago   \n",
       "city_ascii                                              Chicago   \n",
       "state_id                                                     IL   \n",
       "state_name                                             Illinois   \n",
       "county_fips                                               17031   \n",
       "county_name                                                Cook   \n",
       "lat                                                     41.8373   \n",
       "lng                                                    -87.6862   \n",
       "population                                              8604203   \n",
       "density                                                    4574   \n",
       "source                                                  polygon   \n",
       "military                                                  False   \n",
       "incorporated                                               True   \n",
       "timezone                                        America/Chicago   \n",
       "ranking                                                       1   \n",
       "zips          60018 60649 60641 60640 60643 60642 60645 6064...   \n",
       "\n",
       "id                                                   1840015149  \\\n",
       "city                                                      Miami   \n",
       "city_ascii                                                Miami   \n",
       "state_id                                                     FL   \n",
       "state_name                                              Florida   \n",
       "county_fips                                               12086   \n",
       "county_name                                          Miami-Dade   \n",
       "lat                                                     25.7839   \n",
       "lng                                                    -80.2102   \n",
       "population                                              6445545   \n",
       "density                                                    5019   \n",
       "source                                                  polygon   \n",
       "military                                                  False   \n",
       "incorporated                                               True   \n",
       "timezone                                       America/New_York   \n",
       "ranking                                                       1   \n",
       "zips          33129 33125 33126 33127 33128 33149 33144 3314...   \n",
       "\n",
       "id                                                   1840019440  \n",
       "city                                                     Dallas  \n",
       "city_ascii                                               Dallas  \n",
       "state_id                                                     TX  \n",
       "state_name                                                Texas  \n",
       "county_fips                                               48113  \n",
       "county_name                                              Dallas  \n",
       "lat                                                     32.7936  \n",
       "lng                                                    -96.7662  \n",
       "population                                              5743938  \n",
       "density                                                    1526  \n",
       "source                                                  polygon  \n",
       "military                                                  False  \n",
       "incorporated                                               True  \n",
       "timezone                                        America/Chicago  \n",
       "ranking                                                       1  \n",
       "zips          75287 75098 75233 75254 75251 75252 75253 7503...  "
      ]
     },
     "execution_count": 5,
     "metadata": {},
     "output_type": "execute_result"
    }
   ],
   "source": [
    "cities.head().T"
   ]
  },
  {
   "cell_type": "code",
   "execution_count": 34,
   "id": "c5ad13eb",
   "metadata": {},
   "outputs": [],
   "source": [
    "cities.timezone = cities[\"timezone\"].str.split('/',expand=True)[1].values"
   ]
  },
  {
   "cell_type": "markdown",
   "id": "8e0614f3",
   "metadata": {},
   "source": [
    "#### About the dataset"
   ]
  },
  {
   "cell_type": "markdown",
   "id": "544eb496",
   "metadata": {},
   "source": [
    "Some of the features are self explanatory while other require a description below\n",
    "\n",
    "<p>city \t         The name of the city/town. </p>\t\n",
    "<p>city_ascii \t     city as an ASCII string. </p>\t\t\t\n",
    "<p>city_alt \t     Alternative name of the city/town. (e.g. Saint Louis) \t</p>\t\t\t\n",
    "<p>lat \t         The latitude of the city/town.</p>\t \t\t\t\n",
    "<p>lng \t         The longitude of the city/town. </p>\t\t\t\t\n",
    "<p>state_id \t     The state or territory's USPS postal abbreviation.</p>\t \t\t\t\n",
    "<p>state_name \t     The name of the state or territory that contains the city/town.</p>\t \t\t\n",
    "<p>county_fips      The 5-digit FIPS code for the primary county.</p>\t\n",
    "<p>county_name      The name of the primary county (or equivalent) that contains the city/town. </p>\n",
    "<p>population \t     An estimate of the city's urban population.</p>\t \n",
    "<p>density \t     The estimated population per square kilometer. </p>\t\t\t\t\n",
    "<p>incorporated \t TRUE if the place is a city/town. </p>\t\n",
    "<p>source \t         For some cities, our data is generated from a polygon, </p>\t\n",
    "<p>military \t     TRUE if this place is a military establishment such as a fort or base.</p>\t\n",
    "<p>ranking \t     An integer from 1-5 that captures the importance of a city (1 is most important, 5 <p>least important). </p>\t\t\t\n",
    "<p>zips \t         A string containing all five-digit zip codes in the city/town, delimited by a space.\n",
    "</p>\t"
   ]
  },
  {
   "cell_type": "code",
   "execution_count": 234,
   "id": "e7e5583f",
   "metadata": {},
   "outputs": [
    {
     "name": "stdout",
     "output_type": "stream",
     "text": [
      "<class 'pandas.core.frame.DataFrame'>\n",
      "Index: 464 entries, 1840034016 to 1840021518\n",
      "Data columns (total 16 columns):\n",
      " #   Column        Non-Null Count  Dtype  \n",
      "---  ------        --------------  -----  \n",
      " 0   city          464 non-null    object \n",
      " 1   city_ascii    464 non-null    object \n",
      " 2   state_id      464 non-null    object \n",
      " 3   state_name    464 non-null    object \n",
      " 4   county_fips   464 non-null    int64  \n",
      " 5   county_name   464 non-null    object \n",
      " 6   lat           464 non-null    float64\n",
      " 7   lng           464 non-null    float64\n",
      " 8   population    464 non-null    int64  \n",
      " 9   density       464 non-null    int64  \n",
      " 10  source        464 non-null    object \n",
      " 11  military      464 non-null    bool   \n",
      " 12  incorporated  464 non-null    bool   \n",
      " 13  timezone      464 non-null    object \n",
      " 14  ranking       464 non-null    int64  \n",
      " 15  zips          464 non-null    object \n",
      "dtypes: bool(2), float64(2), int64(4), object(8)\n",
      "memory usage: 55.3+ KB\n",
      "464\n"
     ]
    }
   ],
   "source": [
    "cities.info()\n",
    "\n",
    "print(cities.shape[0])"
   ]
  },
  {
   "cell_type": "code",
   "execution_count": 6,
   "id": "42f30f61",
   "metadata": {},
   "outputs": [
    {
     "data": {
      "text/plain": [
       "count      28338\n",
       "mean       14261\n",
       "std       189811\n",
       "min            1\n",
       "25%          330\n",
       "50%         1089\n",
       "75%         4486\n",
       "max     18713220\n",
       "Name: population, dtype: float64"
      ]
     },
     "execution_count": 6,
     "metadata": {},
     "output_type": "execute_result"
    }
   ],
   "source": [
    "pd.set_option('display.float_format', lambda x: '%.0f' % x)\n",
    "cities.population.describe()"
   ]
  },
  {
   "cell_type": "markdown",
   "id": "5ffb170f",
   "metadata": {},
   "source": [
    "## Population of Cities and Total US Population"
   ]
  },
  {
   "cell_type": "code",
   "execution_count": 7,
   "id": "48bd6634",
   "metadata": {},
   "outputs": [
    {
     "name": "stdout",
     "output_type": "stream",
     "text": [
      "The total population of the cities in the dataframe: 404,119,949.\n",
      "The total population provided by the US census is: 341,878,400.\n"
     ]
    }
   ],
   "source": [
    "print(f\"The total population of the cities in the dataframe: {cities.population.sum():,}.\")\n",
    "print(\"The total population provided by the US census is: 341,878,400.\")\n",
    "# Some duplicate counting is going on within the dataframe"
   ]
  },
  {
   "cell_type": "code",
   "execution_count": 8,
   "id": "55c15aa1",
   "metadata": {},
   "outputs": [
    {
     "data": {
      "text/html": [
       "<div>\n",
       "<style scoped>\n",
       "    .dataframe tbody tr th:only-of-type {\n",
       "        vertical-align: middle;\n",
       "    }\n",
       "\n",
       "    .dataframe tbody tr th {\n",
       "        vertical-align: top;\n",
       "    }\n",
       "\n",
       "    .dataframe thead th {\n",
       "        text-align: right;\n",
       "    }\n",
       "</style>\n",
       "<table border=\"1\" class=\"dataframe\">\n",
       "  <thead>\n",
       "    <tr style=\"text-align: right;\">\n",
       "      <th></th>\n",
       "      <th>city</th>\n",
       "      <th>city_ascii</th>\n",
       "      <th>state_id</th>\n",
       "      <th>state_name</th>\n",
       "      <th>county_fips</th>\n",
       "      <th>county_name</th>\n",
       "      <th>lat</th>\n",
       "      <th>lng</th>\n",
       "      <th>population</th>\n",
       "      <th>density</th>\n",
       "      <th>source</th>\n",
       "      <th>military</th>\n",
       "      <th>incorporated</th>\n",
       "      <th>timezone</th>\n",
       "      <th>ranking</th>\n",
       "      <th>zips</th>\n",
       "    </tr>\n",
       "    <tr>\n",
       "      <th>id</th>\n",
       "      <th></th>\n",
       "      <th></th>\n",
       "      <th></th>\n",
       "      <th></th>\n",
       "      <th></th>\n",
       "      <th></th>\n",
       "      <th></th>\n",
       "      <th></th>\n",
       "      <th></th>\n",
       "      <th></th>\n",
       "      <th></th>\n",
       "      <th></th>\n",
       "      <th></th>\n",
       "      <th></th>\n",
       "      <th></th>\n",
       "      <th></th>\n",
       "    </tr>\n",
       "  </thead>\n",
       "  <tbody>\n",
       "    <tr>\n",
       "      <th>1840005661</th>\n",
       "      <td>Edgewood</td>\n",
       "      <td>Edgewood</td>\n",
       "      <td>MD</td>\n",
       "      <td>Maryland</td>\n",
       "      <td>24025</td>\n",
       "      <td>Harford</td>\n",
       "      <td>39</td>\n",
       "      <td>-76</td>\n",
       "      <td>25574</td>\n",
       "      <td>555</td>\n",
       "      <td>polygon</td>\n",
       "      <td>True</td>\n",
       "      <td>True</td>\n",
       "      <td>America/New_York</td>\n",
       "      <td>3</td>\n",
       "      <td>21009 21010 21040</td>\n",
       "    </tr>\n",
       "    <tr>\n",
       "      <th>1840073932</th>\n",
       "      <td>Fort Hood</td>\n",
       "      <td>Fort Hood</td>\n",
       "      <td>TX</td>\n",
       "      <td>Texas</td>\n",
       "      <td>48027</td>\n",
       "      <td>Bell</td>\n",
       "      <td>31</td>\n",
       "      <td>-98</td>\n",
       "      <td>23508</td>\n",
       "      <td>579</td>\n",
       "      <td>polygon</td>\n",
       "      <td>True</td>\n",
       "      <td>True</td>\n",
       "      <td>America/Chicago</td>\n",
       "      <td>3</td>\n",
       "      <td>76544</td>\n",
       "    </tr>\n",
       "    <tr>\n",
       "      <th>1840075052</th>\n",
       "      <td>Schofield Barracks</td>\n",
       "      <td>Schofield Barracks</td>\n",
       "      <td>HI</td>\n",
       "      <td>Hawaii</td>\n",
       "      <td>15003</td>\n",
       "      <td>Honolulu</td>\n",
       "      <td>21</td>\n",
       "      <td>-158</td>\n",
       "      <td>19499</td>\n",
       "      <td>2716</td>\n",
       "      <td>polygon</td>\n",
       "      <td>True</td>\n",
       "      <td>True</td>\n",
       "      <td>Pacific/Honolulu</td>\n",
       "      <td>2</td>\n",
       "      <td>96857 96786</td>\n",
       "    </tr>\n",
       "    <tr>\n",
       "      <th>1840073756</th>\n",
       "      <td>Fort Leonard Wood</td>\n",
       "      <td>Fort Leonard Wood</td>\n",
       "      <td>MO</td>\n",
       "      <td>Missouri</td>\n",
       "      <td>29169</td>\n",
       "      <td>Pulaski</td>\n",
       "      <td>38</td>\n",
       "      <td>-92</td>\n",
       "      <td>16026</td>\n",
       "      <td>268</td>\n",
       "      <td>polygon</td>\n",
       "      <td>True</td>\n",
       "      <td>True</td>\n",
       "      <td>America/Chicago</td>\n",
       "      <td>3</td>\n",
       "      <td>65473</td>\n",
       "    </tr>\n",
       "    <tr>\n",
       "      <th>1840028557</th>\n",
       "      <td>Fort Carson</td>\n",
       "      <td>Fort Carson</td>\n",
       "      <td>CO</td>\n",
       "      <td>Colorado</td>\n",
       "      <td>8041</td>\n",
       "      <td>El Paso</td>\n",
       "      <td>39</td>\n",
       "      <td>-105</td>\n",
       "      <td>14951</td>\n",
       "      <td>672</td>\n",
       "      <td>polygon</td>\n",
       "      <td>True</td>\n",
       "      <td>True</td>\n",
       "      <td>America/Denver</td>\n",
       "      <td>3</td>\n",
       "      <td>80902 80913</td>\n",
       "    </tr>\n",
       "  </tbody>\n",
       "</table>\n",
       "</div>"
      ],
      "text/plain": [
       "                          city          city_ascii state_id state_name  \\\n",
       "id                                                                       \n",
       "1840005661            Edgewood            Edgewood       MD   Maryland   \n",
       "1840073932           Fort Hood           Fort Hood       TX      Texas   \n",
       "1840075052  Schofield Barracks  Schofield Barracks       HI     Hawaii   \n",
       "1840073756   Fort Leonard Wood   Fort Leonard Wood       MO   Missouri   \n",
       "1840028557         Fort Carson         Fort Carson       CO   Colorado   \n",
       "\n",
       "            county_fips county_name  lat  lng  population  density   source  \\\n",
       "id                                                                            \n",
       "1840005661        24025     Harford   39  -76       25574      555  polygon   \n",
       "1840073932        48027        Bell   31  -98       23508      579  polygon   \n",
       "1840075052        15003    Honolulu   21 -158       19499     2716  polygon   \n",
       "1840073756        29169     Pulaski   38  -92       16026      268  polygon   \n",
       "1840028557         8041     El Paso   39 -105       14951      672  polygon   \n",
       "\n",
       "            military  incorporated          timezone  ranking  \\\n",
       "id                                                              \n",
       "1840005661      True          True  America/New_York        3   \n",
       "1840073932      True          True   America/Chicago        3   \n",
       "1840075052      True          True  Pacific/Honolulu        2   \n",
       "1840073756      True          True   America/Chicago        3   \n",
       "1840028557      True          True    America/Denver        3   \n",
       "\n",
       "                         zips  \n",
       "id                             \n",
       "1840005661  21009 21010 21040  \n",
       "1840073932              76544  \n",
       "1840075052        96857 96786  \n",
       "1840073756              65473  \n",
       "1840028557        80902 80913  "
      ]
     },
     "execution_count": 8,
     "metadata": {},
     "output_type": "execute_result"
    }
   ],
   "source": [
    "cities[cities.military][:5]"
   ]
  },
  {
   "cell_type": "code",
   "execution_count": 21,
   "id": "878ab69a",
   "metadata": {},
   "outputs": [
    {
     "name": "stdout",
     "output_type": "stream",
     "text": [
      "There are 3 rankings: [1 2 3].\n"
     ]
    },
    {
     "data": {
      "image/png": "[encoded data removed]",
      "text/plain": [
       "<Figure size 640x480 with 1 Axes>"
      ]
     },
     "metadata": {},
     "output_type": "display_data"
    },
    {
     "name": "stdout",
     "output_type": "stream",
     "text": [
      "                    city state_id\n",
      "id                               \n",
      "1840034016      New York       NY\n",
      "1840020491   Los Angeles       CA\n",
      "1840000494       Chicago       IL\n",
      "1840015149         Miami       FL\n",
      "1840019440        Dallas       TX\n",
      "1840000673  Philadelphia       PA\n",
      "1840020925       Houston       TX\n",
      "1840013660       Atlanta       GA\n",
      "1840006060    Washington       DC\n",
      "1840000455        Boston       MA\n"
     ]
    }
   ],
   "source": [
    "ranked_cities = cities.ranking.sort_values()\n",
    "# Major and important cities are ranked as tier 1\n",
    "print(f\"There are {cities['ranking'].nunique()} rankings: {cities['ranking'].unique()}.\")\n",
    "my_array = [sum(ranked_cities==1),sum(ranked_cities==2),sum(ranked_cities==3)]\n",
    "fig, ax = plt.subplots()\n",
    "bar = ax.bar([1, 2, 3],my_array)\n",
    "plt.yscale('log')\n",
    "ax.bar_label(bar,my_array)\n",
    "plt.title('Ranking Cities')\n",
    "plt.ylabel('Log Population')\n",
    "plt.show()\n",
    "#\n",
    "print(cities.loc[cities.ranking==1,['city','state_id']][:10])"
   ]
  },
  {
   "cell_type": "markdown",
   "id": "5fd58406",
   "metadata": {},
   "source": [
    "### Number of cities in dataframe"
   ]
  },
  {
   "cell_type": "code",
   "execution_count": 22,
   "id": "81457b90",
   "metadata": {},
   "outputs": [
    {
     "name": "stdout",
     "output_type": "stream",
     "text": [
      "There are 28338 cities/towns accounted for.\n",
      "Duplicate city names: 9248\n",
      "Number of rows after population > 100k: 464\n"
     ]
    }
   ],
   "source": [
    "# Count the number of cities\n",
    "print(f\"There are {cities.shape[0]} cities/towns accounted for.\")\n",
    "# Some cities are duplicated\n",
    "print(f\"Duplicate city names: {len(cities[cities['city'].duplicated()].sort_values(by=['city','population'],ascending=False))}\")\n",
    "# Subset the cities with populations above 100k\n",
    "cities = cities[cities.population>100000]\n",
    "print(f\"Number of rows after population > 100k: {cities.shape[0]}\")"
   ]
  },
  {
   "cell_type": "markdown",
   "id": "d4197393",
   "metadata": {},
   "source": [
    "Limit the number of cities with population above 100,000. "
   ]
  },
  {
   "cell_type": "markdown",
   "id": "a5dcc445",
   "metadata": {},
   "source": [
    "### US Major City Population"
   ]
  },
  {
   "cell_type": "code",
   "execution_count": 12,
   "id": "9cabdb12",
   "metadata": {},
   "outputs": [
    {
     "data": {
      "image/png": "[encoded data removed]",
      "text/plain": [
       "<Figure size 640x480 with 1 Axes>"
      ]
     },
     "metadata": {},
     "output_type": "display_data"
    }
   ],
   "source": [
    "# US Major cities\n",
    "largest_pops = cities['population'].sort_values(ascending=False)\n",
    "largest_city_names = cities.loc[largest_pops.index,'city']\n",
    "#print(largest_pops.nlargest(10))\n",
    "ax = plt.bar(x=largest_city_names[:10],height=largest_pops.nlargest(10))\n",
    "plt.xticks(rotation=45, ha='right')\n",
    "plt.ylabel('Population')\n",
    "plt.title('Population by City')\n",
    "plt.show()\n"
   ]
  },
  {
   "cell_type": "markdown",
   "id": "d63f43d6",
   "metadata": {},
   "source": [
    "Note that this does not correspond to the official data. It depends on how the population and city area is counted.\n",
    "https://en.wikipedia.org/wiki/Metropolitan_statistical_area"
   ]
  },
  {
   "cell_type": "code",
   "execution_count": 15,
   "id": "b4b592c9",
   "metadata": {},
   "outputs": [
    {
     "name": "stdout",
     "output_type": "stream",
     "text": [
      "There are 50 mega sized cities.\n",
      "There are 36 large size cities.\n",
      "There are 99 medium sized cities.\n",
      "There are 279 small sized cities.\n"
     ]
    },
    {
     "data": {
      "text/html": [
       "<div>\n",
       "<style scoped>\n",
       "    .dataframe tbody tr th:only-of-type {\n",
       "        vertical-align: middle;\n",
       "    }\n",
       "\n",
       "    .dataframe tbody tr th {\n",
       "        vertical-align: top;\n",
       "    }\n",
       "\n",
       "    .dataframe thead th {\n",
       "        text-align: right;\n",
       "    }\n",
       "</style>\n",
       "<table border=\"1\" class=\"dataframe\">\n",
       "  <thead>\n",
       "    <tr style=\"text-align: right;\">\n",
       "      <th></th>\n",
       "      <th>city</th>\n",
       "      <th>state_name</th>\n",
       "      <th>population</th>\n",
       "    </tr>\n",
       "    <tr>\n",
       "      <th>id</th>\n",
       "      <th></th>\n",
       "      <th></th>\n",
       "      <th></th>\n",
       "    </tr>\n",
       "  </thead>\n",
       "  <tbody>\n",
       "    <tr>\n",
       "      <th>1840003874</th>\n",
       "      <td>Chesapeake</td>\n",
       "      <td>Virginia</td>\n",
       "      <td>244835</td>\n",
       "    </tr>\n",
       "    <tr>\n",
       "      <th>1840031233</th>\n",
       "      <td>Barnstable</td>\n",
       "      <td>Massachusetts</td>\n",
       "      <td>242847</td>\n",
       "    </tr>\n",
       "    <tr>\n",
       "      <th>1840003869</th>\n",
       "      <td>Norfolk</td>\n",
       "      <td>Virginia</td>\n",
       "      <td>242742</td>\n",
       "    </tr>\n",
       "    <tr>\n",
       "      <th>1840020292</th>\n",
       "      <td>Fremont</td>\n",
       "      <td>California</td>\n",
       "      <td>241110</td>\n",
       "    </tr>\n",
       "    <tr>\n",
       "      <th>1840018481</th>\n",
       "      <td>Kennewick</td>\n",
       "      <td>Washington</td>\n",
       "      <td>240735</td>\n",
       "    </tr>\n",
       "  </tbody>\n",
       "</table>\n",
       "</div>"
      ],
      "text/plain": [
       "                  city     state_name  population\n",
       "id                                               \n",
       "1840003874  Chesapeake       Virginia      244835\n",
       "1840031233  Barnstable  Massachusetts      242847\n",
       "1840003869     Norfolk       Virginia      242742\n",
       "1840020292     Fremont     California      241110\n",
       "1840018481   Kennewick     Washington      240735"
      ]
     },
     "execution_count": 15,
     "metadata": {},
     "output_type": "execute_result"
    }
   ],
   "source": [
    "# Label small, medium, large cities\n",
    "# 1-50,000 , 50,000 - 100,000, 100,000 - 500,000\n",
    "small_cities = (cities.population>100000) & (cities.population<250000)\n",
    "medium_cities = (cities.population>250000) & (cities.population<500000)\n",
    "large_cities = (cities.population>500000) & (cities.population<1000000)\n",
    "mega_cities = (cities.population>1000000)\n",
    "#\n",
    "\n",
    "print(f\"There are {cities.loc[mega_cities,'city'].value_counts().sum()} mega sized cities.\")\n",
    "print(f\"There are {cities.loc[large_cities,'city'].value_counts().sum()} large size cities.\")\n",
    "print(f\"There are {cities.loc[medium_cities,'city'].value_counts().sum()} medium sized cities.\")\n",
    "print(f\"There are {cities.loc[small_cities,'city'].value_counts().sum()} small sized cities.\")\n",
    "#\n",
    "#cities.loc[mega_cities,['city','state_name','population']]\n",
    "#cities.loc[large_cities,['city','state_name','population']]\n",
    "cities.loc[medium_cities,['city','state_name','population']][:5]\n",
    "cities.loc[small_cities,['city','state_name','population']][:5]\n"
   ]
  },
  {
   "cell_type": "code",
   "execution_count": 35,
   "id": "feff8b33",
   "metadata": {},
   "outputs": [
    {
     "data": {
      "image/png": "[encoded data removed]",
      "text/plain": [
       "<Figure size 635.25x500 with 1 Axes>"
      ]
     },
     "metadata": {},
     "output_type": "display_data"
    }
   ],
   "source": [
    "# Population Density\n",
    "g=sns.relplot(data=cities,x='population',y='density',kind='scatter',hue='timezone',size='population',legend=True)\n",
    "plt.title('Population by Density')\n",
    "\n",
    "#print(dir(g._legend))\n",
    "#plt.legend(bbox_to_anchor=(1.25, 0.5), ncol=2)\n",
    "\n",
    "for k in range(5):\n",
    "    plt.text(cities.population.iloc[k], cities.density.iloc[k], cities.city.iloc[k])\n",
    "plt.show()\n",
    "# The plot below shows that the a large number of major cities are on the east coast (NYC timezone)"
   ]
  },
  {
   "cell_type": "markdown",
   "id": "81af7220",
   "metadata": {},
   "source": [
    "The plot above shows that most of the large cities are located on the east coast."
   ]
  },
  {
   "cell_type": "code",
   "execution_count": 36,
   "id": "af0f5b02",
   "metadata": {},
   "outputs": [
    {
     "name": "stdout",
     "output_type": "stream",
     "text": [
      "Highest density cities:\n"
     ]
    },
    {
     "data": {
      "text/html": [
       "<div>\n",
       "<style scoped>\n",
       "    .dataframe tbody tr th:only-of-type {\n",
       "        vertical-align: middle;\n",
       "    }\n",
       "\n",
       "    .dataframe tbody tr th {\n",
       "        vertical-align: top;\n",
       "    }\n",
       "\n",
       "    .dataframe thead th {\n",
       "        text-align: right;\n",
       "    }\n",
       "</style>\n",
       "<table border=\"1\" class=\"dataframe\">\n",
       "  <thead>\n",
       "    <tr style=\"text-align: right;\">\n",
       "      <th></th>\n",
       "      <th>city</th>\n",
       "      <th>state_id</th>\n",
       "      <th>population</th>\n",
       "      <th>density</th>\n",
       "    </tr>\n",
       "    <tr>\n",
       "      <th>id</th>\n",
       "      <th></th>\n",
       "      <th></th>\n",
       "      <th></th>\n",
       "      <th></th>\n",
       "    </tr>\n",
       "  </thead>\n",
       "  <tbody>\n",
       "    <tr>\n",
       "      <th>1840034000</th>\n",
       "      <td>Manhattan</td>\n",
       "      <td>NY</td>\n",
       "      <td>1628706</td>\n",
       "      <td>27545</td>\n",
       "    </tr>\n",
       "    <tr>\n",
       "      <th>1840034030</th>\n",
       "      <td>Brooklyn</td>\n",
       "      <td>NY</td>\n",
       "      <td>2559903</td>\n",
       "      <td>14221</td>\n",
       "    </tr>\n",
       "    <tr>\n",
       "      <th>1840033999</th>\n",
       "      <td>Bronx</td>\n",
       "      <td>NY</td>\n",
       "      <td>1418207</td>\n",
       "      <td>12862</td>\n",
       "    </tr>\n",
       "    <tr>\n",
       "      <th>1840034016</th>\n",
       "      <td>New York</td>\n",
       "      <td>NY</td>\n",
       "      <td>18713220</td>\n",
       "      <td>10715</td>\n",
       "    </tr>\n",
       "    <tr>\n",
       "      <th>1840034002</th>\n",
       "      <td>Queens</td>\n",
       "      <td>NY</td>\n",
       "      <td>2230722</td>\n",
       "      <td>7885</td>\n",
       "    </tr>\n",
       "  </tbody>\n",
       "</table>\n",
       "</div>"
      ],
      "text/plain": [
       "                 city state_id  population  density\n",
       "id                                                 \n",
       "1840034000  Manhattan       NY     1628706    27545\n",
       "1840034030   Brooklyn       NY     2559903    14221\n",
       "1840033999      Bronx       NY     1418207    12862\n",
       "1840034016   New York       NY    18713220    10715\n",
       "1840034002     Queens       NY     2230722     7885"
      ]
     },
     "execution_count": 36,
     "metadata": {},
     "output_type": "execute_result"
    }
   ],
   "source": [
    "print(\"Highest density cities:\")\n",
    "cities.loc[cities.density.sort_values().nlargest(5).index,[\"city\",\"state_id\",\"population\",\"density\"]]"
   ]
  },
  {
   "cell_type": "markdown",
   "id": "79d15773",
   "metadata": {},
   "source": [
    "## Count the zip codes"
   ]
  },
  {
   "cell_type": "code",
   "execution_count": 180,
   "id": "181d5796",
   "metadata": {},
   "outputs": [],
   "source": [
    "cities['zip_count'] = cities.zips.apply(lambda x: len(x.split()))"
   ]
  },
  {
   "cell_type": "code",
   "execution_count": 201,
   "id": "37fcc1ba",
   "metadata": {},
   "outputs": [
    {
     "data": {
      "image/png": "[encoded data removed]",
      "text/plain": [
       "<Figure size 640x480 with 1 Axes>"
      ]
     },
     "metadata": {},
     "output_type": "display_data"
    }
   ],
   "source": [
    "sorted_zip_count = cities.zip_count.sort_values(ascending=False)\n",
    "#print(sorted_zip_count[:10].values)\n",
    "\n",
    "fig, ax = plt.subplots()\n",
    "cities['city'][:10]\n",
    "bar = plt.bar(cities['city'][:10].values,sorted_zip_count[:10].values)\n",
    "ax.bar_label(bar,sorted_zip_count[:10].values)\n",
    "plt.xticks(rotation=45, ha='right')\n",
    "plt.title('Number of Zip Codes in City')\n",
    "plt.show()\n",
    "\n",
    "# Counting the zip codes shows number of zip codes of a city correlate with its population"
   ]
  },
  {
   "cell_type": "markdown",
   "id": "7375756c",
   "metadata": {},
   "source": [
    "## Summary"
   ]
  },
  {
   "cell_type": "markdown",
   "id": "89ae55cd",
   "metadata": {},
   "source": [
    "<p>This notebook presentation has been an overview of the US cities dataset.\n",
    "A few discrepancies have been uncovered with the data. We've determined the largest cities by population and explored city densities as well.<\\p>"
   ]
  }
 ],
 "metadata": {
  "kernelspec": {
   "display_name": "Python 3 (ipykernel)",
   "language": "python",
   "name": "python3"
  },
  "language_info": {
   "codemirror_mode": {
    "name": "ipython",
    "version": 3
   },
   "file_extension": ".py",
   "mimetype": "text/x-python",
   "name": "python",
   "nbconvert_exporter": "python",
   "pygments_lexer": "ipython3",
   "version": "3.10.9"
  }
 },
 "nbformat": 4,
 "nbformat_minor": 5
}
